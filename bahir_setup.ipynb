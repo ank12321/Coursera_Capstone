{
    "nbformat_minor": 1, 
    "nbformat": 4, 
    "cells": [
        {
            "source": "### Please run the following cell once.\n\nThis will install the Apache Bahir connector within your Project/Apache Spark service. If you restart the kernel or start a new notebook in the same project you can use Apache Bahir for connecting to the Cloudant/Apache CouchDB service. Please note that this will install a patched version of the connector (since the pull request hasn't been merged with the trunk yet).\n\nYou'll find more information on the patch here:\n\nhttps://github.com/apache/bahir/pull/49 https://issues.apache.org/jira/browse/BAHIR-130\n", 
            "cell_type": "markdown", 
            "metadata": {}
        }, 
        {
            "source": "import pixiedust\npixiedust.installPackage(\"https://github.com/romeokienzler/developerWorks/raw/master/coursera/spark-sql-cloudant_2.11-2.3.0-SNAPSHOT.jar\")\npixiedust.installPackage(\"com.typesafe:config:1.3.1\")\npixiedust.installPackage(\"com.typesafe.play:play-json_2.11:jar:2.5.9\")\npixiedust.installPackage(\"org.scalaj:scalaj-http_2.11:jar:2.3.0\")\npixiedust.installPackage(\"com.typesafe.play:play-functional_2.11:jar:2.5.9\")", 
            "execution_count": 1, 
            "cell_type": "code", 
            "metadata": {}, 
            "outputs": [
                {
                    "output_type": "stream", 
                    "text": "Pixiedust database opened successfully\nTable VERSION_TRACKER created successfully\nTable METRICS_TRACKER created successfully\n\nShare anonymous install statistics? (opt-out instructions)\n\nPixieDust will record metadata on its environment the next time the package is installed or updated. The data is anonymized and aggregated to help plan for future releases, and records only the following values:\n\n{\n   \"data_sent\": currentDate,\n   \"runtime\": \"python\",\n   \"application_version\": currentPixiedustVersion,\n   \"space_id\": nonIdentifyingUniqueId,\n   \"config\": {\n       \"repository_id\": \"https://github.com/ibm-watson-data-lab/pixiedust\",\n       \"target_runtimes\": [\"Data Science Experience\"],\n       \"event_id\": \"web\",\n       \"event_organizer\": \"dev-journeys\"\n   }\n}\nYou can opt out by calling pixiedust.optOut() in a new cell.\n", 
                    "name": "stdout"
                }, 
                {
                    "output_type": "display_data", 
                    "data": {
                        "text/plain": "<IPython.core.display.HTML object>", 
                        "text/html": "\n        <div style=\"margin:10px\">\n            <a href=\"https://github.com/ibm-watson-data-lab/pixiedust\" target=\"_new\">\n                <img src=\"https://github.com/ibm-watson-data-lab/pixiedust/raw/master/docs/_static/pd_icon32.png\" style=\"float:left;margin-right:10px\"/>\n            </a>\n            <span>Pixiedust version 1.1.11</span>\n        </div>\n        "
                    }, 
                    "metadata": {}
                }, 
                {
                    "output_type": "stream", 
                    "text": "Pixiedust runtime updated. Please restart kernel\nTable SPARK_PACKAGES created successfully\nTable USER_PREFERENCES created successfully\nTable service_connections created successfully\nPackageManager is disabled because /gpfs/fs01/user/sc16-85df3ece170643-884535c3ec27/data/libs is not on the Java Class Path. Please contact your administrator\nPackageManager is disabled because /gpfs/fs01/user/sc16-85df3ece170643-884535c3ec27/data/libs is not on the Java Class Path. Please contact your administrator\nPackageManager is disabled because /gpfs/fs01/user/sc16-85df3ece170643-884535c3ec27/data/libs is not on the Java Class Path. Please contact your administrator\nPackageManager is disabled because /gpfs/fs01/user/sc16-85df3ece170643-884535c3ec27/data/libs is not on the Java Class Path. Please contact your administrator\nPackageManager is disabled because /gpfs/fs01/user/sc16-85df3ece170643-884535c3ec27/data/libs is not on the Java Class Path. Please contact your administrator\n", 
                    "name": "stdout"
                }
            ]
        }, 
        {
            "source": "", 
            "execution_count": null, 
            "cell_type": "code", 
            "metadata": {}, 
            "outputs": []
        }
    ], 
    "metadata": {
        "kernelspec": {
            "name": "python3-spark21", 
            "display_name": "Python 3.5 with Spark 2.1", 
            "language": "python"
        }, 
        "language_info": {
            "version": "3.5.4", 
            "file_extension": ".py", 
            "codemirror_mode": {
                "version": 3, 
                "name": "ipython"
            }, 
            "nbconvert_exporter": "python", 
            "mimetype": "text/x-python", 
            "pygments_lexer": "ipython3", 
            "name": "python"
        }
    }
}