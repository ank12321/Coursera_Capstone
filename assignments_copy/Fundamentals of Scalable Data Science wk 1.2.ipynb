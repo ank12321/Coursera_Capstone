{
    "nbformat_minor": 1, 
    "cells": [
        {
            "cell_type": "markdown", 
            "metadata": {
                "collapsed": true
            }, 
            "source": "# Welcome\nWelcome the the 1st course on coursera called \"A developer's guide to Exploratory Analysis of IoT Sensor Data\" which can be found here: https://www.coursera.org/teach/developer-iot-data-analyst-exploratory\n"
        }, 
        {
            "cell_type": "markdown", 
            "metadata": {}, 
            "source": "The intention of this template is to give a framework where the individual programming assignments can be implemented. This is the one for Week 1"
        }, 
        {
            "cell_type": "markdown", 
            "metadata": {}, 
            "source": "# Question 1\nBelow you see some ApacheSpark code written in Python which will be picked up by the auto grader of coursera.org. You don't have to change code now, the only thing we want you to do is export this notebook as python code so that the grader can assess it. This is an exercice ment to make sure the submission process works on your side.\n\nPLEASE DON'T ADD ANY CODE OUTSIDE THE assignment1 FUNCTION"
        }, 
        {
            "outputs": [], 
            "cell_type": "code", 
            "metadata": {}, 
            "source": "def assignment1(sc):\n    rdd = sc.parallelize(range(100))\n    return rdd.count()", 
            "execution_count": 4
        }, 
        {
            "outputs": [], 
            "cell_type": "code", 
            "metadata": {}, 
            "source": "### PLEASE DON'T REMOVE THIS BLOCK - THE FOLLOWING CODE IS NOT GRADED\n#axx\n### PLEASE DON'T REMOVE THIS BLOCK - THE FOLLOWING CODE IS NOT GRADED", 
            "execution_count": 5
        }, 
        {
            "outputs": [
                {
                    "output_type": "error", 
                    "ename": "SyntaxError", 
                    "evalue": "invalid syntax (<ipython-input-6-65f6e3fe5e96>, line 1)", 
                    "traceback": [
                        "\u001b[0;36m  File \u001b[0;32m\"<ipython-input-6-65f6e3fe5e96>\"\u001b[0;36m, line \u001b[0;32m1\u001b[0m\n\u001b[0;31m    print assignment1(sc)\u001b[0m\n\u001b[0m                    ^\u001b[0m\n\u001b[0;31mSyntaxError\u001b[0m\u001b[0;31m:\u001b[0m invalid syntax\n"
                    ]
                }
            ], 
            "cell_type": "code", 
            "metadata": {}, 
            "source": "print assignment1(sc)", 
            "execution_count": 6
        }, 
        {
            "outputs": [], 
            "cell_type": "code", 
            "metadata": {}, 
            "source": "", 
            "execution_count": null
        }
    ], 
    "metadata": {
        "kernelspec": {
            "display_name": "Python 3.5 with Spark 2.1", 
            "name": "python3-spark21", 
            "language": "python"
        }, 
        "language_info": {
            "mimetype": "text/x-python", 
            "codemirror_mode": {
                "name": "ipython", 
                "version": 3
            }, 
            "pygments_lexer": "ipython3", 
            "name": "python", 
            "nbconvert_exporter": "python", 
            "file_extension": ".py", 
            "version": "3.5.4"
        }
    }, 
    "nbformat": 4
}