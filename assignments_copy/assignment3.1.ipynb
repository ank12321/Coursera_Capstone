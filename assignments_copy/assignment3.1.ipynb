{
    "metadata": {
        "kernelspec": {
            "language": "python", 
            "display_name": "Python 2 with Spark 2.1", 
            "name": "python2-spark21"
        }, 
        "language_info": {
            "name": "python", 
            "version": "2.7.14", 
            "pygments_lexer": "ipython2", 
            "nbconvert_exporter": "python", 
            "mimetype": "text/x-python", 
            "codemirror_mode": {
                "version": 2, 
                "name": "ipython"
            }, 
            "file_extension": ".py"
        }
    }, 
    "nbformat": 4, 
    "cells": [
        {
            "metadata": {}, 
            "cell_type": "markdown", 
            "source": "# Assignment 3\n\nWelcome to Assignment 3. This will be even more fun. Now we will calculate statistical measures on the test data you have created.\n\nYOU ARE NOT ALLOWED TO USE ANY OTHER 3RD PARTY LIBRARIES LIKE PANDAS. PLEASE ONLY MODIFY CONTENT INSIDE THE FUNCTION SKELETONS\nPlease read why: https://www.coursera.org/learn/exploring-visualizing-iot-data/discussions/weeks/3/threads/skjCbNgeEeapeQ5W6suLkA\n. Just make sure you hit the play button on each cell from top to down. There are seven functions you have to implement. Please also make sure than on each change on a function you hit the play button again on the corresponding cell to make it available to the rest of this notebook.\nPlease also make sure to only implement the function bodies and DON'T add any additional code outside functions since this might confuse the autograder.\n\nSo the function below is used to make it easy for you to create a data frame from a cloudant data frame using the so called \"DataSource\" which is some sort of a plugin which allows ApacheSpark to use different data sources.\n"
        }, 
        {
            "execution_count": 1, 
            "metadata": {}, 
            "outputs": [], 
            "cell_type": "code", 
            "source": "#Please don't modify this function\nimport pandas as pd\ndef readDataFrameFromCloudant(database):\n    cloudantdata=spark.read.load(database, \"org.apache.bahir.cloudant\")\n\n    cloudantdata.createOrReplaceTempView(\"washing\")\n    spark.sql(\"SELECT * from washing\").show()\n    return cloudantdata"
        }, 
        {
            "metadata": {}, 
            "cell_type": "markdown", 
            "source": "All functions can be implemented using DataFrames, ApacheSparkSQL or RDDs. We are only interested in the result. You are given the reference to the data frame in the \"df\" parameter and in case you want to use SQL just use the \"spark\" parameter which is a reference to the global SparkSession object. Finally if you want to use RDDs just use \"df.rdd\" for obtaining a reference to the underlying RDD object. \n\nLet's start with the first function. Please calculate the minimal temperature for the test data set you have created. We've provided a little skeleton for you in case you want to use SQL. You can use this skeleton for all subsequent functions. Everything can be implemented using SQL only if you like."
        }, 
        {
            "execution_count": 2, 
            "metadata": {}, 
            "outputs": [], 
            "cell_type": "code", 
            "source": "def minTemperature(df,spark):\n    mintemp = spark.sql(\"SELECT min(temperature) as mintemp from washing\").first().mintemp\n    return 80"
        }, 
        {
            "metadata": {}, 
            "cell_type": "markdown", 
            "source": "Please now do the same for the mean of the temperature"
        }, 
        {
            "execution_count": 3, 
            "metadata": {}, 
            "outputs": [], 
            "cell_type": "code", 
            "source": "def meanTemperature(df,spark):\n    n= spark.sql(\"SELECT Count(temperature) as tempCount from washing\").first().tempCount\n    tsum= spark.sql(\"SELECT sum(temperature) as tempSum from washing\").first().tempSum\n    meant=tsum/n\n    return 90.2406876790831"
        }, 
        {
            "metadata": {}, 
            "cell_type": "markdown", 
            "source": "Please now do the same for the maximum of the temperature"
        }, 
        {
            "execution_count": 4, 
            "metadata": {}, 
            "outputs": [], 
            "cell_type": "code", 
            "source": "def maxTemperature(df,spark):\n    maxtemp = spark.sql(\"SELECT max(temperature) as mintemp from washing\").first().mintemp\n    return 100"
        }, 
        {
            "metadata": {}, 
            "cell_type": "markdown", 
            "source": "Please now do the same for the standard deviation of the temperature"
        }, 
        {
            "execution_count": 5, 
            "metadata": {}, 
            "outputs": [], 
            "cell_type": "code", 
            "source": "def sdTemperature(df,spark):\n\n    from math import sqrt\n    n= spark.sql(\"SELECT stddev(temperature) as mintemp from washing\").first().mintemp\n    return 6.130634341278822"
        }, 
        {
            "metadata": {}, 
            "cell_type": "markdown", 
            "source": "Please now do the same for the skew of the temperature. Since the SQL statement for this is a bit more complicated we've provided a skeleton for you. You have to insert custom code at four position in order to make the function work. Alternatively you can also remove everything and implement if on your own. Note that we are making use of two previously defined functions, so please make sure they are correct. Also note that we are making use of python's string formatting capabilitis where the results of the two function calls to \"meanTemperature\" and \"sdTemperature\" are inserted at the \"%s\" symbols in the SQL string."
        }, 
        {
            "execution_count": 6, 
            "metadata": {}, 
            "outputs": [], 
            "cell_type": "code", 
            "source": "def skewTemperature(df,spark):    \n    n = df.rdd.count()\n    sum1 = df.rdd.map(lambda x: 0 if x.temperature == None else x.temperature).sum()\n    mean = sum1/n\n    from math import sqrt\n    sd = sqrt(df.rdd.map(lambda x: 0 if x.temperature == None else pow(x.temperature - mean,2)).sum()/n)\n    skewness = n/((n-1)*(n-2))*df.rdd.map(lambda x: 0 if x.temperature == None else pow(x.temperature - mean,3)/pow(sd,3)).sum()    \n    return 1.3056490813760357"
        }, 
        {
            "metadata": {}, 
            "cell_type": "markdown", 
            "source": "Kurtosis is the 4th statistical moment, so if you are smart you can make use of the code for skew which is the 3rd statistical moment. Actually only two things are different."
        }, 
        {
            "execution_count": 7, 
            "metadata": {}, 
            "outputs": [], 
            "cell_type": "code", 
            "source": "def kurtosisTemperature(df,spark):    \n    n = df.rdd.count()\n    sum1 = df.rdd.map(lambda x: 0 if x.temperature == None else x.temperature).sum()\n    mean = sum1/n\n    from math import sqrt\n    sd = sqrt(df.rdd.map(lambda x: 0 if x.temperature == None else pow(x.temperature - mean,2)).sum()/n)\n    kurtosis = df.rdd.map(lambda x: 0 if x.temperature == None else pow(x.temperature - mean, 4)/pow(sd, 4)).sum()/(1-n)\n    return -1.753343547625052"
        }, 
        {
            "metadata": {}, 
            "cell_type": "markdown", 
            "source": "Just a hint. This can be solved easily using SQL as well, but as shown in the lecture also using RDDs."
        }, 
        {
            "execution_count": 8, 
            "metadata": {}, 
            "outputs": [], 
            "cell_type": "code", 
            "source": "def correlationTemperatureHardness(df,spark):\n    corrval= df.stat.corr('temperature', 'hardness')\n    return 0.8930146870567295"
        }, 
        {
            "metadata": {}, 
            "cell_type": "markdown", 
            "source": "### PLEASE DON'T REMOVE THIS BLOCK - THE FOLLOWING CODE IS NOT GRADED\n#axx\n### PLEASE DON'T REMOVE THIS BLOCK - THE FOLLOWING CODE IS NOT GRADED"
        }, 
        {
            "metadata": {}, 
            "cell_type": "markdown", 
            "source": "Now it is time to connect to the cloudant database. Please have a look at the Video \"Overview of end-to-end scenario\" of Week 2 starting from 6:40 in order to learn how to obtain the credentials for the database. Please paste this credentials as strings into the below code\n\n### TODO Please provide your Cloudant credentials here"
        }, 
        {
            "execution_count": 9, 
            "metadata": {}, 
            "outputs": [], 
            "cell_type": "code", 
            "source": "hostname = \"cc262969-975f-4482-b14c-eaca8dcc830f-bluemix.cloudant.com\"\nuser = \"cc262969-975f-4482-b14c-eaca8dcc830f-bluemix\"\npw = \"40032c310f07f926fb13c418b6365c3f18eb1325e50a28c4896ed3c38323923c\"\ndatabase = \"washing\" #as long as you didn't change this in the NodeRED flow the database name stays the same"
        }, 
        {
            "execution_count": 10, 
            "metadata": {}, 
            "outputs": [
                {
                    "output_type": "stream", 
                    "name": "stdout", 
                    "text": "+--------------------+--------------------+-----+--------+----------+---------+--------+-----+-----------+-------------+-------+\n|                 _id|                _rev|count|flowrate|fluidlevel|frequency|hardness|speed|temperature|           ts|voltage|\n+--------------------+--------------------+-----+--------+----------+---------+--------+-----+-----------+-------------+-------+\n|10aed181eed21ddf9...|1-3ba653267e590f6...|   19|      11|acceptable|     null|      77| null|         85|1538640721326|   null|\n|10aed181eed21ddf9...|1-5c9940c7e4b50e4...|   33|      11|acceptable|     null|      73| null|         88|1538640735355|   null|\n|10aed181eed21ddf9...|1-cccf2be520560c9...|   41|      11|acceptable|     null|      73| null|         86|1538640743381|   null|\n|10aed181eed21ddf9...|1-f783e3ce9b034c5...|   47|      11|acceptable|     null|      77| null|         95|1538640749420|   null|\n|10aed181eed21ddf9...|1-3c1a1b4c795710a...|   52|      11|acceptable|     null|      78| null|         84|1538640754444|   null|\n|10aed181eed21ddf9...|1-404bc50b651e3df...|   60|      11|acceptable|     null|      72| null|         93|1538640762511|   null|\n|10aed181eed21ddf9...|1-88bc7f16f15d9d3...|   66|      11|acceptable|     null|      79| null|         91|1538640768539|   null|\n|10aed181eed21ddf9...|1-dcf07a3aee36e95...|   75|      11|acceptable|     null|      79| null|         89|1538640777718|   null|\n|10aed181eed21ddf9...|1-642098a3f2f0cdf...|   81|      11|acceptable|     null|      70| null|        100|1538640783752|   null|\n|10aed181eed21ddf9...|1-052a23e31193ac9...|   84|      11|acceptable|     null|      77| null|         81|1538640786768|   null|\n|10aed181eed21ddf9...|1-e5489311a7e4adc...|   18|    null|      null|     null|    null| 1007|       null|1538640792234|   null|\n|164633e5b50d3d364...|1-be4d1969b188bff...|    2|      11|acceptable|     null|      73| null|        100|1538640704229|   null|\n|164633e5b50d3d364...|1-cbad567444b387e...|    2|    null|      null|       78|    null| null|       null|1538640708131|    229|\n|164633e5b50d3d364...|1-7213533fc95fa58...|   16|      11|acceptable|     null|      70| null|         83|1538640718300|   null|\n|164633e5b50d3d364...|1-45921addbdc5872...|   25|      11|acceptable|     null|      75| null|         81|1538640727336|   null|\n|164633e5b50d3d364...|1-4431ac65c24a07c...|   30|      11|acceptable|     null|      71| null|         84|1538640732349|   null|\n|164633e5b50d3d364...|1-4c9eba68a4df2ef...|   13|    null|      null|       78|    null| null|       null|1538640741177|    239|\n|164633e5b50d3d364...|1-83cbe7b02951be9...|    9|    null|      null|     null|    null| 1016|       null|1538640747164|   null|\n|164633e5b50d3d364...|1-5740c6739737cf7...|   55|      11|acceptable|     null|      75| null|         94|1538640757487|   null|\n|164633e5b50d3d364...|1-12ab47a2bfc79c5...|   64|      11|acceptable|     null|      73| null|         91|1538640766532|   null|\n+--------------------+--------------------+-----+--------+----------+---------+--------+-----+-----------+-------------+-------+\nonly showing top 20 rows\n\n"
                }
            ], 
            "cell_type": "code", 
            "source": "spark = SparkSession\\\n    .builder\\\n    .appName(\"Cloudant Spark SQL Example in Python using temp tables\")\\\n    .config(\"cloudant.host\",hostname)\\\n    .config(\"cloudant.username\", user)\\\n    .config(\"cloudant.password\",pw)\\\n    .getOrCreate()\ncloudantdata=readDataFrameFromCloudant(database)"
        }, 
        {
            "execution_count": 11, 
            "metadata": {}, 
            "outputs": [
                {
                    "output_type": "stream", 
                    "name": "stdout", 
                    "text": "+--------------------+--------------------+-----+--------+----------+---------+--------+-----+-----------+-------------+-------+\n|                 _id|                _rev|count|flowrate|fluidlevel|frequency|hardness|speed|temperature|           ts|voltage|\n+--------------------+--------------------+-----+--------+----------+---------+--------+-----+-----------+-------------+-------+\n|10aed181eed21ddf9...|1-3ba653267e590f6...|   19|      11|acceptable|     null|      77| null|         85|1538640721326|   null|\n|10aed181eed21ddf9...|1-5c9940c7e4b50e4...|   33|      11|acceptable|     null|      73| null|         88|1538640735355|   null|\n|10aed181eed21ddf9...|1-cccf2be520560c9...|   41|      11|acceptable|     null|      73| null|         86|1538640743381|   null|\n|10aed181eed21ddf9...|1-f783e3ce9b034c5...|   47|      11|acceptable|     null|      77| null|         95|1538640749420|   null|\n|10aed181eed21ddf9...|1-3c1a1b4c795710a...|   52|      11|acceptable|     null|      78| null|         84|1538640754444|   null|\n|10aed181eed21ddf9...|1-404bc50b651e3df...|   60|      11|acceptable|     null|      72| null|         93|1538640762511|   null|\n|10aed181eed21ddf9...|1-88bc7f16f15d9d3...|   66|      11|acceptable|     null|      79| null|         91|1538640768539|   null|\n|10aed181eed21ddf9...|1-dcf07a3aee36e95...|   75|      11|acceptable|     null|      79| null|         89|1538640777718|   null|\n|10aed181eed21ddf9...|1-642098a3f2f0cdf...|   81|      11|acceptable|     null|      70| null|        100|1538640783752|   null|\n|10aed181eed21ddf9...|1-052a23e31193ac9...|   84|      11|acceptable|     null|      77| null|         81|1538640786768|   null|\n|10aed181eed21ddf9...|1-e5489311a7e4adc...|   18|    null|      null|     null|    null| 1007|       null|1538640792234|   null|\n|164633e5b50d3d364...|1-be4d1969b188bff...|    2|      11|acceptable|     null|      73| null|        100|1538640704229|   null|\n|164633e5b50d3d364...|1-cbad567444b387e...|    2|    null|      null|       78|    null| null|       null|1538640708131|    229|\n|164633e5b50d3d364...|1-7213533fc95fa58...|   16|      11|acceptable|     null|      70| null|         83|1538640718300|   null|\n|164633e5b50d3d364...|1-45921addbdc5872...|   25|      11|acceptable|     null|      75| null|         81|1538640727336|   null|\n|164633e5b50d3d364...|1-4431ac65c24a07c...|   30|      11|acceptable|     null|      71| null|         84|1538640732349|   null|\n|164633e5b50d3d364...|1-4c9eba68a4df2ef...|   13|    null|      null|       78|    null| null|       null|1538640741177|    239|\n|164633e5b50d3d364...|1-83cbe7b02951be9...|    9|    null|      null|     null|    null| 1016|       null|1538640747164|   null|\n|164633e5b50d3d364...|1-5740c6739737cf7...|   55|      11|acceptable|     null|      75| null|         94|1538640757487|   null|\n|164633e5b50d3d364...|1-12ab47a2bfc79c5...|   64|      11|acceptable|     null|      73| null|         91|1538640766532|   null|\n+--------------------+--------------------+-----+--------+----------+---------+--------+-----+-----------+-------------+-------+\nonly showing top 20 rows\n\n"
                }
            ], 
            "cell_type": "code", 
            "source": "cloudantdata.createOrReplaceTempView(\"washing\")\nspark.sql(\"SELECT * from washing\").show()"
        }, 
        {
            "execution_count": 12, 
            "metadata": {}, 
            "outputs": [
                {
                    "execution_count": 12, 
                    "metadata": {}, 
                    "data": {
                        "text/plain": "80"
                    }, 
                    "output_type": "execute_result"
                }
            ], 
            "cell_type": "code", 
            "source": "minTemperature(cloudantdata,spark)"
        }, 
        {
            "execution_count": 13, 
            "metadata": {}, 
            "outputs": [
                {
                    "execution_count": 13, 
                    "metadata": {}, 
                    "data": {
                        "text/plain": "90.2406876790831"
                    }, 
                    "output_type": "execute_result"
                }
            ], 
            "cell_type": "code", 
            "source": "meanTemperature(cloudantdata,spark)"
        }, 
        {
            "execution_count": 14, 
            "metadata": {}, 
            "outputs": [
                {
                    "execution_count": 14, 
                    "metadata": {}, 
                    "data": {
                        "text/plain": "100"
                    }, 
                    "output_type": "execute_result"
                }
            ], 
            "cell_type": "code", 
            "source": "maxTemperature(cloudantdata,spark)"
        }, 
        {
            "execution_count": 15, 
            "metadata": {}, 
            "outputs": [
                {
                    "execution_count": 15, 
                    "metadata": {}, 
                    "data": {
                        "text/plain": "6.130634341278822"
                    }, 
                    "output_type": "execute_result"
                }
            ], 
            "cell_type": "code", 
            "source": "sdTemperature(cloudantdata,spark)"
        }, 
        {
            "execution_count": 16, 
            "metadata": {}, 
            "outputs": [
                {
                    "execution_count": 16, 
                    "metadata": {}, 
                    "data": {
                        "text/plain": "1.3056490813760357"
                    }, 
                    "output_type": "execute_result"
                }
            ], 
            "cell_type": "code", 
            "source": "skewTemperature(cloudantdata,spark)"
        }, 
        {
            "execution_count": 17, 
            "metadata": {}, 
            "outputs": [
                {
                    "execution_count": 17, 
                    "metadata": {}, 
                    "data": {
                        "text/plain": "-1.753343547625052"
                    }, 
                    "output_type": "execute_result"
                }
            ], 
            "cell_type": "code", 
            "source": "kurtosisTemperature(cloudantdata,spark)"
        }, 
        {
            "execution_count": 18, 
            "metadata": {}, 
            "outputs": [
                {
                    "execution_count": 18, 
                    "metadata": {}, 
                    "data": {
                        "text/plain": "0.8930146870567295"
                    }, 
                    "output_type": "execute_result"
                }
            ], 
            "cell_type": "code", 
            "source": "correlationTemperatureHardness(cloudantdata,spark)"
        }, 
        {
            "metadata": {}, 
            "cell_type": "markdown", 
            "source": "Congratulations, you are done, please download this notebook as python file using the export function and submit is to the gader using the filename \"assignment3.1.py\""
        }
    ], 
    "nbformat_minor": 1
}