{
    "nbformat": 4, 
    "nbformat_minor": 1, 
    "cells": [
        {
            "source": "# Assignment 4\n\nWelcome to Assignment 4. This will be the most fun. Now we will prepare data for plotting.\n\nJust make sure you hit the play button on each cell from top to down. There are three functions you have to implement. Please also make sure than on each change on a function you hit the play button again on the corresponding cell to make it available to the rest of this notebook. Please also make sure to only implement the function bodies and DON'T add any additional code outside functions since this might confuse the autograder.\n\nSo the function below is used to make it easy for you to create a data frame from a cloudant data frame using the so called \"DataSource\" which is some sort of a plugin which allows ApacheSpark to use different data sources.\n", 
            "cell_type": "markdown", 
            "metadata": {}
        }, 
        {
            "execution_count": 1, 
            "outputs": [], 
            "cell_type": "code", 
            "metadata": {}, 
            "source": "#Please don't modify this function\ndef readDataFrameFromCloudant(database):\n    cloudantdata=spark.read.load(database, \"org.apache.bahir.cloudant\")\n\n    cloudantdata.createOrReplaceTempView(\"washing\")\n    spark.sql(\"SELECT * from washing\")\n    return cloudantdata"
        }, 
        {
            "source": "Sampling is one of the most important things when it comes to visualization because often the data set get so huge that you simply\n\n- can't copy all data to a local Spark driver (Data Science Experience is using a \"local\" Spark driver)\n- can't throw all data at the plotting library\n\nPlease implement a function which returns a 10% sample of a given data frame:", 
            "cell_type": "markdown", 
            "metadata": {}
        }, 
        {
            "execution_count": 2, 
            "outputs": [], 
            "cell_type": "code", 
            "metadata": {}, 
            "source": "def getSample(df,spark):\n\n    result_df = spark.sql(\"SELECT * FROM washing\").sample(False,0.1).show()\n    return result_df"
        }, 
        {
            "source": "Now we want to create a histogram and boxplot. Please ignore the sampling for now and retur a python list containing all temperature values from the data set", 
            "cell_type": "markdown", 
            "metadata": {}
        }, 
        {
            "execution_count": 3, 
            "outputs": [], 
            "cell_type": "code", 
            "metadata": {}, 
            "source": "def getListForHistogramAndBoxPlot(df,spark):\n    result2_df = spark.sql(\"SELECT temperature FROM washing WHERE temperature IS NOT null\")\n    result_plt = result2_df.rdd.map(lambda row : row.temperature).collect()\n    return result_plt"
        }, 
        {
            "source": "Finally we want to create a run chart. Please return two lists (encapusalted in a python tuple object) containing temperature and timestamp (ts) ordered by timestamp. Please refere to the following link to learn more about tuples in python: https://www.tutorialspoint.com/python/python_tuples.htm", 
            "cell_type": "markdown", 
            "metadata": {}
        }, 
        {
            "execution_count": 4, 
            "outputs": [], 
            "cell_type": "code", 
            "metadata": {}, 
            "source": "#should return a tuple containing the two lists for timestamp and temperature\n#please make sure you take only 10% of the data by sampling\n#please also ensure that you sample in a way that the timestamp samples and temperature samples correspond (=> call sample on an object still containing both dimensions)\ndef getListsForRunChart(df,spark):\n    result3_df = spark.sql(\"SELECT temperature,ts FROM washing WHERE temperature IS NOT null ORDER BY ts ASC\")\n    result_rdd = result3_df.rdd.sample(False,0.1).map(lambda row : (row.ts,row.temperature))\n    result_array_ts = result_rdd.map(lambda (ts,temprature): ts).collect()\n    result_array_temp = result_rdd.map(lambda (ts,temprature): temprature).collect()\n    result_run = (result_array_ts,result_array_temp)\n    return result_run"
        }, 
        {
            "source": "### PLEASE DON'T REMOVE THIS BLOCK - THE FOLLOWING CODE IS NOT GRADED\n#axx\n### PLEASE DON'T REMOVE THIS BLOCK - THE FOLLOWING CODE IS NOT GRADED", 
            "cell_type": "markdown", 
            "metadata": {}
        }, 
        {
            "source": "Now it is time to connect to the cloudant database. Please have a look at the Video \"Overview of end-to-end scenario\" of Week 2 starting from 6:40 in order to learn how to obtain the credentials for the database. Please paste this credentials as strings into the below code\n\n### TODO Please provide your Cloudant credentials here", 
            "cell_type": "markdown", 
            "metadata": {}
        }, 
        {
            "execution_count": 6, 
            "outputs": [], 
            "cell_type": "code", 
            "metadata": {}, 
            "source": "# The code was removed by Watson Studio for sharing."
        }, 
        {
            "execution_count": 7, 
            "outputs": [], 
            "cell_type": "code", 
            "metadata": {}, 
            "source": "spark = SparkSession\\\n    .builder\\\n    .appName(\"Cloudant Spark SQL Example in Python using temp tables\")\\\n    .config(\"cloudant.host\",hostname)\\\n    .config(\"cloudant.username\", user)\\\n    .config(\"cloudant.password\",pw)\\\n    .getOrCreate()\ncloudantdata=readDataFrameFromCloudant(database)"
        }, 
        {
            "execution_count": 8, 
            "outputs": [], 
            "cell_type": "code", 
            "metadata": {}, 
            "source": "%matplotlib inline\nimport matplotlib.pyplot as plt"
        }, 
        {
            "execution_count": 9, 
            "outputs": [
                {
                    "output_type": "display_data", 
                    "data": {
                        "image/png": "[encoded data removed]", 
                        "text/plain": "<matplotlib.figure.Figure at 0x7f62361bf590>"
                    }, 
                    "metadata": {}
                }
            ], 
            "cell_type": "code", 
            "metadata": {}, 
            "source": "plt.hist(getListForHistogramAndBoxPlot(cloudantdata,spark))\nplt.show()"
        }, 
        {
            "execution_count": 10, 
            "outputs": [
                {
                    "output_type": "display_data", 
                    "data": {
                        "image/png": "[encoded data removed]", 
                        "text/plain": "<matplotlib.figure.Figure at 0x7f625e7d9350>"
                    }, 
                    "metadata": {}
                }
            ], 
            "cell_type": "code", 
            "metadata": {}, 
            "source": "plt.boxplot(getListForHistogramAndBoxPlot(cloudantdata,spark))\nplt.show()"
        }, 
        {
            "execution_count": 11, 
            "outputs": [], 
            "cell_type": "code", 
            "metadata": {}, 
            "source": "lists = getListsForRunChart(cloudantdata,spark)"
        }, 
        {
            "execution_count": 12, 
            "outputs": [
                {
                    "output_type": "display_data", 
                    "data": {
                        "image/png": "[encoded data removed]", 
                        "text/plain": "<matplotlib.figure.Figure at 0x7f6231ea4b10>"
                    }, 
                    "metadata": {}
                }
            ], 
            "cell_type": "code", 
            "metadata": {}, 
            "source": "plt.plot(lists[0],lists[1])\nplt.xlabel(\"time\")\nplt.ylabel(\"temperature\")\nplt.show()"
        }, 
        {
            "source": "Congratulations, you are done! Please download the notebook as python file, name it assignment4.1.py and sumbit it to the grader.", 
            "cell_type": "markdown", 
            "metadata": {}
        }, 
        {
            "execution_count": null, 
            "outputs": [], 
            "cell_type": "code", 
            "metadata": {}, 
            "source": ""
        }
    ], 
    "metadata": {
        "kernelspec": {
            "name": "python2-spark21", 
            "display_name": "Python 2 with Spark 2.1", 
            "language": "python"
        }
    }
}