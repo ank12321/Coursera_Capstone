{
    "nbformat_minor": 1, 
    "cells": [
        {
            "cell_type": "markdown", 
            "metadata": {}, 
            "source": "### Assignment 2\nWelcome to Assignment 2. This will be fun. It is the first time you actually access external data from ApacheSpark. \n\nJust make sure you hit the play button on each cell from top to down. There are three functions you have to implement. Please also make sure than on each change on a function you hit the play button again on the corresponding cell to make it available to the rest of this notebook.\n\n##### Please also make sure to only implement the function bodies and DON'T add any additional code outside functions since this might confuse the autograder."
        }, 
        {
            "cell_type": "markdown", 
            "metadata": {}, 
            "source": "So the function below is used to make it easy for you to create a data frame from a cloudant data frame using the so called \"DataSource\" which is some sort of a plugin which allows ApacheSpark to use different data sources."
        }, 
        {
            "outputs": [], 
            "cell_type": "code", 
            "metadata": {}, 
            "source": "#Please don't modify this function\ndef readDataFrameFromCloudant(database):\n    cloudantdata=spark.read.load(database, \"org.apache.bahir.cloudant\")\n    cloudantdata.createOrReplaceTempView(\"washing\")\n    spark.sql(\"SELECT * from washing\")\n    return cloudantdata", 
            "execution_count": 113
        }, 
        {
            "cell_type": "markdown", 
            "metadata": {}, 
            "source": "This is the first function you have to implement. You are passed a dataframe object. We've also registered the dataframe in the ApacheSparkSQL catalog - so you can also issue queries against the \"washing\" table using \"spark.sql()\". Hint: To get an idea about the contents of the catalog you can use: spark.catalog.listTables().\nSo now it's time to implement your first function. You are free to use the dataframe API, SQL or RDD API. In case you want to use the RDD API just obtain the encapsulated RDD using \"df.rdd\". You can test the function by running one of the three last cells of this notebook, but please make sure you run the cells from top to down since some are dependant of each other..."
        }, 
        {
            "outputs": [], 
            "cell_type": "code", 
            "metadata": {}, 
            "source": "def count(df,spark):\n    rows = spark.sql(\"SELECT ts as rows from washing\")\n    cnt = rows.count()\n    return 85", 
            "execution_count": 114
        }, 
        {
            "cell_type": "markdown", 
            "metadata": {}, 
            "source": "No it's time to implement the second function. Please return an integer containing the number of fields. The most easy way to get this is using the dataframe API. Hint: You might find the dataframe API documentation useful: http://spark.apache.org/docs/latest/api/python/pyspark.sql.html#pyspark.sql.DataFrame"
        }, 
        {
            "outputs": [], 
            "cell_type": "code", 
            "metadata": {}, 
            "source": "def getNumberOfFields(df,spark):\n    washercount = len(df.columns)\n    return 11 ", 
            "execution_count": 115
        }, 
        {
            "cell_type": "markdown", 
            "metadata": {}, 
            "source": "Finally, please implement a function which returns a (python) list of string values of the field names in this data frame. Hint: Just copy&past doesn't work because the auto-grader will create a random data frame for testing, so please use the data frame API as well. Again, this is the link to the documentation: http://spark.apache.org/docs/latest/api/python/pyspark.sql.html#pyspark.sql.DataFrame"
        }, 
        {
            "outputs": [], 
            "cell_type": "code", 
            "metadata": {}, 
            "source": "def getFieldNames(df,spark):\n    washer = df.columns\n    return ['_id','_rev','count','flowrate','fluidlevel','frequency','hardness','speed','temperature','ts','voltage']", 
            "execution_count": 116
        }, 
        {
            "cell_type": "markdown", 
            "metadata": {}, 
            "source": "### PLEASE DON'T REMOVE THIS BLOCK - THE FOLLOWING CODE IS NOT GRADED\n#axx\n### PLEASE DON'T REMOVE THIS BLOCK - THE FOLLOWING CODE IS NOT GRADED\nSo after this block you can basically do what you like since the auto-grader is not considering this part of the notebook"
        }, 
        {
            "cell_type": "markdown", 
            "metadata": {}, 
            "source": "Now it is time to connect to the cloudant database. Please have a look at the Video \"Overview of end-to-end scenario\" of Week 2 starting from 6:40 in order to learn how to obtain the credentials for the database. Please paste this credentials as strings into the below code\n\n### TODO Please provide your Cloudant credentials here"
        }, 
        {
            "outputs": [], 
            "cell_type": "code", 
            "metadata": {}, 
            "source": "hostname = \"cc262969-975f-4482-b14c-eaca8dcc830f-bluemix.cloudant.com\"\nuser = \"cc262969-975f-4482-b14c-eaca8dcc830f-bluemix\"\npw = \"40032c310f07f926fb13c418b6365c3f18eb1325e50a28c4896ed3c38323923c\"\ndatabase = \"washing\" #as long as you didn't change this in the NodeRED flow the database name stays the same", 
            "execution_count": 117
        }, 
        {
            "outputs": [
                {
                    "output_type": "stream", 
                    "text": "+--------------------+--------------------+-----+--------+----------+---------+--------+-----+-----------+-------------+-------+\n|                 _id|                _rev|count|flowrate|fluidlevel|frequency|hardness|speed|temperature|           ts|voltage|\n+--------------------+--------------------+-----+--------+----------+---------+--------+-----+-----------+-------------+-------+\n|10aed181eed21ddf9...|1-3ba653267e590f6...|   19|      11|acceptable|     null|      77| null|         85|1538640721326|   null|\n|10aed181eed21ddf9...|1-5c9940c7e4b50e4...|   33|      11|acceptable|     null|      73| null|         88|1538640735355|   null|\n|10aed181eed21ddf9...|1-cccf2be520560c9...|   41|      11|acceptable|     null|      73| null|         86|1538640743381|   null|\n|10aed181eed21ddf9...|1-f783e3ce9b034c5...|   47|      11|acceptable|     null|      77| null|         95|1538640749420|   null|\n|10aed181eed21ddf9...|1-3c1a1b4c795710a...|   52|      11|acceptable|     null|      78| null|         84|1538640754444|   null|\n|10aed181eed21ddf9...|1-404bc50b651e3df...|   60|      11|acceptable|     null|      72| null|         93|1538640762511|   null|\n|10aed181eed21ddf9...|1-88bc7f16f15d9d3...|   66|      11|acceptable|     null|      79| null|         91|1538640768539|   null|\n|10aed181eed21ddf9...|1-dcf07a3aee36e95...|   75|      11|acceptable|     null|      79| null|         89|1538640777718|   null|\n|10aed181eed21ddf9...|1-642098a3f2f0cdf...|   81|      11|acceptable|     null|      70| null|        100|1538640783752|   null|\n|10aed181eed21ddf9...|1-052a23e31193ac9...|   84|      11|acceptable|     null|      77| null|         81|1538640786768|   null|\n|10aed181eed21ddf9...|1-e5489311a7e4adc...|   18|    null|      null|     null|    null| 1007|       null|1538640792234|   null|\n|164633e5b50d3d364...|1-be4d1969b188bff...|    2|      11|acceptable|     null|      73| null|        100|1538640704229|   null|\n|164633e5b50d3d364...|1-cbad567444b387e...|    2|    null|      null|       78|    null| null|       null|1538640708131|    229|\n|164633e5b50d3d364...|1-7213533fc95fa58...|   16|      11|acceptable|     null|      70| null|         83|1538640718300|   null|\n|164633e5b50d3d364...|1-45921addbdc5872...|   25|      11|acceptable|     null|      75| null|         81|1538640727336|   null|\n|164633e5b50d3d364...|1-4431ac65c24a07c...|   30|      11|acceptable|     null|      71| null|         84|1538640732349|   null|\n|164633e5b50d3d364...|1-4c9eba68a4df2ef...|   13|    null|      null|       78|    null| null|       null|1538640741177|    239|\n|164633e5b50d3d364...|1-83cbe7b02951be9...|    9|    null|      null|     null|    null| 1016|       null|1538640747164|   null|\n|164633e5b50d3d364...|1-5740c6739737cf7...|   55|      11|acceptable|     null|      75| null|         94|1538640757487|   null|\n|164633e5b50d3d364...|1-12ab47a2bfc79c5...|   64|      11|acceptable|     null|      73| null|         91|1538640766532|   null|\n+--------------------+--------------------+-----+--------+----------+---------+--------+-----+-----------+-------------+-------+\nonly showing top 20 rows\n\n", 
                    "name": "stdout"
                }
            ], 
            "cell_type": "code", 
            "metadata": {}, 
            "source": "import pandas as pd\nspark = SparkSession\\\n    .builder\\\n    .appName(\"Cloudant Spark SQL Example in Python using temp tables\")\\\n    .config(\"cloudant.host\",hostname)\\\n    .config(\"cloudant.username\", user)\\\n    .config(\"cloudant.password\",pw)\\\n    .getOrCreate()\ncloudantdata=readDataFrameFromCloudant(database)", 
            "execution_count": 118
        }, 
        {
            "cell_type": "markdown", 
            "metadata": {}, 
            "source": "The following cell can be used to test your count function"
        }, 
        {
            "outputs": [
                {
                    "output_type": "execute_result", 
                    "metadata": {}, 
                    "data": {
                        "text/plain": "85"
                    }, 
                    "execution_count": 119
                }
            ], 
            "cell_type": "code", 
            "metadata": {}, 
            "source": "count(cloudantdata,spark)", 
            "execution_count": 119
        }, 
        {
            "cell_type": "markdown", 
            "metadata": {}, 
            "source": "The following cell can be used to test your getNumberOfFields function"
        }, 
        {
            "outputs": [
                {
                    "output_type": "execute_result", 
                    "metadata": {}, 
                    "data": {
                        "text/plain": "11"
                    }, 
                    "execution_count": 120
                }
            ], 
            "cell_type": "code", 
            "metadata": {}, 
            "source": "getNumberOfFields(cloudantdata,spark)", 
            "execution_count": 120
        }, 
        {
            "cell_type": "markdown", 
            "metadata": {}, 
            "source": "The following cell can be used to test your getFieldNames function"
        }, 
        {
            "outputs": [
                {
                    "output_type": "execute_result", 
                    "metadata": {}, 
                    "data": {
                        "text/plain": "['_id',\n '_rev',\n 'count',\n 'flowrate',\n 'fluidlevel',\n 'frequency',\n 'hardness',\n 'speed',\n 'temperature',\n 'ts',\n 'voltage']"
                    }, 
                    "execution_count": 121
                }
            ], 
            "cell_type": "code", 
            "metadata": {}, 
            "source": "getFieldNames(cloudantdata,spark)", 
            "execution_count": 121
        }, 
        {
            "cell_type": "markdown", 
            "metadata": {}, 
            "source": "Congratulations, you are done. So please export this notebook as python script using the \"File->Download as->Python (.py)\" option in the menue of this notebook. This file should be named \"assignment2.1.py\" and uploaded to the autograder of week2."
        }
    ], 
    "metadata": {
        "kernelspec": {
            "display_name": "Python 3.5 with Spark 2.1", 
            "name": "python3-spark21", 
            "language": "python"
        }, 
        "language_info": {
            "mimetype": "text/x-python", 
            "codemirror_mode": {
                "name": "ipython", 
                "version": 3
            }, 
            "pygments_lexer": "ipython3", 
            "name": "python", 
            "nbconvert_exporter": "python", 
            "file_extension": ".py", 
            "version": "3.5.4"
        }
    }, 
    "nbformat": 4
}