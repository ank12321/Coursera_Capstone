{
    "metadata": {
        "kernelspec": {
            "language": "python3", 
            "display_name": "Python 3.5 with Spark", 
            "name": "python3"
        }, 
        "language_info": {
            "name": "python", 
            "version": "3.5.4", 
            "pygments_lexer": "ipython3", 
            "nbconvert_exporter": "python", 
            "mimetype": "text/x-python", 
            "codemirror_mode": {
                "version": 3, 
                "name": "ipython"
            }, 
            "file_extension": ".py"
        }
    }, 
    "nbformat": 4, 
    "cells": [
        {
            "metadata": {
                "collapsed": true
            }, 
            "cell_type": "markdown", 
            "source": "This is sample notebook with Apache spark framework"
        }, 
        {
            "execution_count": 1, 
            "metadata": {}, 
            "outputs": [
                {
                    "output_type": "stream", 
                    "name": "stdout", 
                    "text": "Waiting for a Spark session to start...\nSpark Initialization Done! ApplicationId = app-20181003062008-0000\n"
                }, 
                {
                    "execution_count": 1, 
                    "metadata": {}, 
                    "data": {
                        "text/plain": "'2.3.0'"
                    }, 
                    "output_type": "execute_result"
                }
            ], 
            "cell_type": "code", 
            "source": "spark.version"
        }, 
        {
            "execution_count": null, 
            "metadata": {}, 
            "outputs": [], 
            "cell_type": "code", 
            "source": ""
        }
    ], 
    "nbformat_minor": 1
}